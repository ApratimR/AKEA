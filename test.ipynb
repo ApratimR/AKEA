{
 "metadata": {
  "language_info": {
   "codemirror_mode": {
    "name": "ipython",
    "version": 3
   },
   "file_extension": ".py",
   "mimetype": "text/x-python",
   "name": "python",
   "nbconvert_exporter": "python",
   "pygments_lexer": "ipython3",
   "version": "3.8.5-final"
  },
  "orig_nbformat": 2,
  "kernelspec": {
   "name": "Python 3.8.5 64-bit ('encryption': conda)",
   "display_name": "Python 3.8.5 64-bit ('encryption': conda)",
   "metadata": {
    "interpreter": {
     "hash": "5049ba85e9484f8220a5a0a0db316016ad9a873be70439be7e9b9ac1e1c412dc"
    }
   }
  }
 },
 "nbformat": 4,
 "nbformat_minor": 2,
 "cells": [
  {
   "cell_type": "code",
   "execution_count": 1,
   "metadata": {},
   "outputs": [],
   "source": [
    "import numpy as np\n",
    "\n",
    "#NOTE if two list exists a and b\n",
    "#use a = b[:] instead a = b\n",
    "#cause a = b is a reference exchange only .... no data exchange\n"
   ]
  },
  {
   "cell_type": "code",
   "execution_count": 2,
   "metadata": {},
   "outputs": [],
   "source": [
    "initialVector = [24,39, 3,63, 7,46,16, 3,\n",
    "\t\t\t\t 12,57,18,46,12,55,35,43,\n",
    "\t\t\t\t 15, 6,25,53, 0,45,60,15,\n",
    "\t\t\t\t 50,22,37,41,62,56,29,38,\n",
    "\t\t\t\t  9,15,60, 2,55, 3,18, 8,\n",
    "\t\t\t\t 54,10,28, 0,61,40,14,41,\n",
    "\t\t\t\t 12, 2,40,27,23,43,36,62,\n",
    "\t\t\t\t 32,60,45, 4,17,11,21, 4]"
   ]
  },
  {
   "cell_type": "code",
   "execution_count": 3,
   "metadata": {},
   "outputs": [],
   "source": [
    "permutations=np.genfromtxt(\"permutation.csv\",delimiter=\",\",dtype=np.uint8)\n",
    "\n",
    "substitutions=np.genfromtxt(\"substitution.csv\",delimiter=\",\",dtype=np.uint8)\n",
    "\n",
    "messups = np.genfromtxt(\"messup.csv\",delimiter=\",\",dtype=np.uint8)"
   ]
  },
  {
   "cell_type": "code",
   "execution_count": 4,
   "metadata": {
    "tags": []
   },
   "outputs": [
    {
     "output_type": "stream",
     "name": "stdout",
     "text": "[46, 57, 60, 40, 38, 62, 18, 14, 18, 37, 6, 9, 62, 23, 45, 21, 3, 55, 32, 15, 3, 45, 54, 8, 40, 10, 28, 12, 46, 56, 39, 60, 4, 50, 11, 35, 41, 41, 16, 17, 55, 0, 29, 3, 27, 53, 2, 25, 61, 43, 36, 12, 22, 24, 4, 63, 60, 7, 0, 15, 2, 43, 15, 12]\n"
    }
   ],
   "source": [
    "#permutation and also for verification of integrity\n",
    "temp = initialVector[:]\n",
    "tempshadow = initialVector[:]\n",
    "for temp1 in range(64):\n",
    "    for temp2 in range(64):\n",
    "        tempshadow[temp2] = temp[permutations[temp1][temp2]]\n",
    "    temp = tempshadow[:]\n",
    "\n",
    "print(temp)"
   ]
  },
  {
   "cell_type": "code",
   "execution_count": 5,
   "metadata": {
    "tags": []
   },
   "outputs": [
    {
     "output_type": "stream",
     "name": "stdout",
     "text": "[22, 61, 56, 42, 47, 45, 41, 56, 35, 43, 58, 45, 35, 20, 17, 19, 52, 21, 5, 46, 27, 55, 59, 52, 18, 62, 30, 3, 36, 48, 54, 1, 26, 52, 59, 34, 20, 56, 58, 40, 51, 7, 53, 27, 12, 11, 13, 3, 35, 34, 11, 15, 14, 19, 50, 36, 8, 59, 55, 2, 37, 33, 31, 2]\n"
    }
   ],
   "source": [
    "#substitution\n",
    "temp = initialVector[:]\n",
    "#tempshadow = initialVector[:]\n",
    "\n",
    "for temp1 in range(64):\n",
    "    for temp2 in range(64):\n",
    "        temp[temp2]= substitutions[temp1][(temp[temp2])]\n",
    "\n",
    "print(temp)"
   ]
  },
  {
   "cell_type": "code",
   "execution_count": 6,
   "metadata": {
    "tags": []
   },
   "outputs": [
    {
     "output_type": "stream",
     "name": "stdout",
     "text": "[2, 60, 22, 17, 23, 34, 7, 44, 29, 35, 20, 18, 8, 1, 34, 5, 22, 41, 61, 35, 33, 30, 18, 25, 23, 33, 35, 61, 44, 14, 45, 27, 12, 48, 53, 24, 61, 50, 47, 6, 9, 15, 21, 41, 28, 19, 17, 44, 47, 24, 55, 30, 39, 34, 25, 41, 47, 24, 55, 30, 39, 34, 25, 41]\n"
    }
   ],
   "source": [
    "temp = initialVector[:]\n",
    "\n",
    "for temp in range(64):\n",
    "    temp = (temp + messups[temp][:])%64\n",
    "\n",
    "print(list(temp))"
   ]
  },
  {
   "cell_type": "code",
   "execution_count": 7,
   "metadata": {},
   "outputs": [],
   "source": [
    "def keyexpander_permutation(parameter0,key):\n",
    "\tshadowbox = parameter0[:]\n",
    "\tfor temp1 in range(64):\n",
    "\t\tshadowbox[temp1]= parameter0[permutations[key][temp1]]\n",
    "\treturn shadowbox"
   ]
  },
  {
   "cell_type": "code",
   "execution_count": 8,
   "metadata": {
    "tags": []
   },
   "outputs": [
    {
     "output_type": "stream",
     "name": "stdout",
     "text": "[41, 45, 29, 2, 4, 15, 9, 36, 27, 12, 53, 14, 45, 16, 23, 28, 55, 50, 57, 11, 17, 43, 18, 40, 62, 40, 46, 6, 15, 61, 60, 0, 46, 12, 43, 54, 2, 22, 38, 15, 0, 18, 41, 55, 3, 21, 25, 62, 24, 60, 56, 60, 63, 3, 8, 37, 32, 39, 35, 3, 12, 10, 7, 4]\n"
    }
   ],
   "source": [
    "temp2=keyexpander_permutation(initialVector,7)\n",
    "print(temp2)"
   ]
  },
  {
   "cell_type": "code",
   "execution_count": 9,
   "metadata": {
    "tags": []
   },
   "outputs": [
    {
     "output_type": "stream",
     "name": "stdout",
     "text": "[0, 0, 2, 2, 3, 3, 3, 4, 4, 6, 7, 8, 9, 10, 11, 12, 12, 12, 14, 15, 15, 15, 16, 17, 18, 18, 21, 22, 23, 24, 25, 27, 28, 29, 32, 35, 36, 37, 38, 39, 40, 40, 41, 41, 43, 43, 45, 45, 46, 46, 50, 53, 54, 55, 55, 56, 57, 60, 60, 60, 61, 62, 62, 63]\n"
    }
   ],
   "source": [
    "initialVector.sort()\n",
    "print (initialVector)"
   ]
  },
  {
   "cell_type": "code",
   "execution_count": 10,
   "metadata": {
    "tags": []
   },
   "outputs": [
    {
     "output_type": "stream",
     "name": "stdout",
     "text": "[0, 0, 2, 2, 3, 3, 3, 4, 4, 6, 7, 8, 9, 10, 11, 12, 12, 12, 14, 15, 15, 15, 16, 17, 18, 18, 21, 22, 23, 24, 25, 27, 28, 29, 32, 35, 36, 37, 38, 39, 40, 40, 41, 41, 43, 43, 45, 45, 46, 46, 50, 53, 54, 55, 55, 56, 57, 60, 60, 60, 61, 62, 62, 63]\n"
    }
   ],
   "source": [
    "temp2.sort()\n",
    "print(temp2)"
   ]
  },
  {
   "cell_type": "code",
   "execution_count": 11,
   "metadata": {},
   "outputs": [],
   "source": [
    "import base64\n",
    "\n",
    "base64lookuptable = \"ABCDEFGHIJKLMNOPQRSTUVWXYZabcdefghijklmnopqrstuvwxyz0123456789+/\"\n",
    "\n",
    "def encodeData(keyinput):\n",
    "\t\"\"\"input:(class) string -> output:(calss) list\n",
    "\t\n",
    "\tTakes string as input and encodes it with base64 and converts the encoded string into \n",
    "\tnumbers based on base64 rules\n",
    "\t\"\"\"\n",
    "\tif isinstance(keyinput,str)==True:\n",
    "\t\t#process for the string\n",
    "\t\ttemp=str(keyinput)\n",
    "\t\ttemp=temp.encode(encoding=\"UTF-8\")\n",
    "\t\ttemp = base64.b64encode(temp)\n",
    "\t\ttemp=temp.decode(encoding=\"UTF-8\")\n",
    "\n",
    "\t\t#empty list to be appended on\n",
    "\t\tconvertedData = list()\n",
    "\n",
    "\t#rejecting the padding \"=\"\n",
    "\t\tfor temp1 in temp:\n",
    "\t\t\tif temp1 != \"=\":\n",
    "\t\t\t\tconvertedData.append(base64lookuptable.index(temp1))\n",
    "\t\n",
    "\t#accepting only string data type\n",
    "\telse:\n",
    "\t\traise Exception(\"invalid data type or invalid format entered\")\n",
    "\treturn convertedData\n",
    "\n",
    "\n",
    "def decodeData(keyinput):\n",
    "\t#work on converting the data back to str form number array\n",
    "\tif isinstance(keyinput,str)==True:\n",
    "\t\ttemp = str(keyinput)\n",
    "\t\tpaddingLenght = 4-(len(temp)%4)\n",
    "\t\tpadding = \"=\"*paddingLenght\n",
    "\t\ttemp += padding\n",
    "\t\ttemp = temp.encode(encoding=\"UTF-8\")\n",
    "\t\ttemp = base64.b64decode(temp)\n",
    "\t\ttemp = temp.decode(encoding=\"UTF-8\")\n",
    "\t\treturn temp\n",
    "\n",
    "\telif isinstance(keyinput,list)==True:\n",
    "\t\ttry:\n",
    "\t\t\tif min(keyinput)>=0 and max(keyinput)<=64:\n",
    "\t\t\t\ttempString = \"\"\n",
    "\t\t\t\tfor temp in keyinput:\n",
    "\t\t\t\t\ttempString += base64lookuptable[temp]\n",
    "\t\t\t\treturn(isinstance(tempString))\n",
    "\t\t\t#else:\n",
    "\t\t\t#\traise Exception(\"out of bound character entered\")\n",
    "\t\texcept TypeError:\n",
    "\t\t\traise Exception(\"out of bound character entered\")\n",
    "\telse:\n",
    "\t\traise Exception(\"invalid data type or invalid format entered\")"
   ]
  },
  {
   "cell_type": "code",
   "execution_count": 12,
   "metadata": {
    "tags": []
   },
   "outputs": [
    {
     "output_type": "error",
     "ename": "Exception",
     "evalue": "out of bound character entered",
     "traceback": [
      "\u001b[1;31m---------------------------------------------------------------------------\u001b[0m",
      "\u001b[1;31mTypeError\u001b[0m                                 Traceback (most recent call last)",
      "\u001b[1;32m&lt;ipython-input-11-9fe02384beee&gt;\u001b[0m in \u001b[0;36mdecodeData\u001b[1;34m(keyinput)\u001b[0m\n\u001b[0;32m     49\u001b[0m                                         \u001b[0mtempString\u001b[0m \u001b[1;33m+=\u001b[0m \u001b[0mbase64lookuptable\u001b[0m\u001b[1;33m[\u001b[0m\u001b[0mtemp\u001b[0m\u001b[1;33m]\u001b[0m\u001b[1;33m\u001b[0m\u001b[1;33m\u001b[0m\u001b[0m\n\u001b[1;32m---&gt; 50\u001b[1;33m                                 \u001b[1;32mreturn\u001b[0m\u001b[1;33m(\u001b[0m\u001b[0misinstance\u001b[0m\u001b[1;33m(\u001b[0m\u001b[0mtempString\u001b[0m\u001b[1;33m)\u001b[0m\u001b[1;33m)\u001b[0m\u001b[1;33m\u001b[0m\u001b[1;33m\u001b[0m\u001b[0m\n\u001b[0m\u001b[0;32m     51\u001b[0m                         \u001b[1;31m#else:\u001b[0m\u001b[1;33m\u001b[0m\u001b[1;33m\u001b[0m\u001b[1;33m\u001b[0m\u001b[0m\n",
      "\u001b[1;31mTypeError\u001b[0m: isinstance expected 2 arguments, got 1",
      "\nDuring handling of the above exception, another exception occurred:\n",
      "\u001b[1;31mException\u001b[0m                                 Traceback (most recent call last)",
      "\u001b[1;32m&lt;ipython-input-12-3de0fb62dce2&gt;\u001b[0m in \u001b[0;36m&lt;module&gt;\u001b[1;34m\u001b[0m\n\u001b[1;32m----&gt; 1\u001b[1;33m \u001b[0mprint\u001b[0m\u001b[1;33m(\u001b[0m\u001b[0mdecodeData\u001b[0m\u001b[1;33m(\u001b[0m\u001b[1;33m[\u001b[0m\u001b[1;36m16\u001b[0m\u001b[1;33m,\u001b[0m \u001b[1;36m23\u001b[0m\u001b[1;33m,\u001b[0m \u001b[1;36m1\u001b[0m\u001b[1;33m,\u001b[0m \u001b[1;36m50\u001b[0m\u001b[1;33m,\u001b[0m \u001b[1;36m24\u001b[0m\u001b[1;33m,\u001b[0m \u001b[1;36m23\u001b[0m\u001b[1;33m,\u001b[0m \u001b[1;36m17\u001b[0m\u001b[1;33m,\u001b[0m \u001b[1;36m41\u001b[0m\u001b[1;33m,\u001b[0m \u001b[1;36m27\u001b[0m\u001b[1;33m,\u001b[0m \u001b[1;36m16\u001b[0m\u001b[1;33m]\u001b[0m\u001b[1;33m)\u001b[0m\u001b[1;33m)\u001b[0m\u001b[1;33m\u001b[0m\u001b[1;33m\u001b[0m\u001b[0m\n\u001b[0m",
      "\u001b[1;32m&lt;ipython-input-11-9fe02384beee&gt;\u001b[0m in \u001b[0;36mdecodeData\u001b[1;34m(keyinput)\u001b[0m\n\u001b[0;32m     52\u001b[0m                         \u001b[1;31m#       raise Exception(&quot;out of bound character entered&quot;)\u001b[0m\u001b[1;33m\u001b[0m\u001b[1;33m\u001b[0m\u001b[1;33m\u001b[0m\u001b[0m\n\u001b[0;32m     53\u001b[0m                 \u001b[1;32mexcept\u001b[0m \u001b[0mTypeError\u001b[0m\u001b[1;33m:\u001b[0m\u001b[1;33m\u001b[0m\u001b[1;33m\u001b[0m\u001b[0m\n\u001b[1;32m---&gt; 54\u001b[1;33m                         \u001b[1;32mraise\u001b[0m \u001b[0mException\u001b[0m\u001b[1;33m(\u001b[0m\u001b[1;34m&quot;out of bound character entered&quot;\u001b[0m\u001b[1;33m)\u001b[0m\u001b[1;33m\u001b[0m\u001b[1;33m\u001b[0m\u001b[0m\n\u001b[0m\u001b[0;32m     55\u001b[0m         \u001b[1;32melse\u001b[0m\u001b[1;33m:\u001b[0m\u001b[1;33m\u001b[0m\u001b[1;33m\u001b[0m\u001b[0m\n\u001b[0;32m     56\u001b[0m                 \u001b[1;32mraise\u001b[0m \u001b[0mException\u001b[0m\u001b[1;33m(\u001b[0m\u001b[1;34m&quot;invalid data type or invalid format entered&quot;\u001b[0m\u001b[1;33m)\u001b[0m\u001b[1;33m\u001b[0m\u001b[1;33m\u001b[0m\u001b[0m\n",
      "\u001b[1;31mException\u001b[0m: out of bound character entered"
     ]
    }
   ],
   "source": [
    "print(decodeData([16, 23, 1, 50, 24, 23, 17, 41, 27, 16]))"
   ]
  },
  {
   "cell_type": "code",
   "execution_count": 4,
   "metadata": {
    "tags": []
   },
   "outputs": [
    {
     "output_type": "stream",
     "name": "stdout",
     "text": "[16, 23, 1, 50, 24, 23, 17, 41, 27, 16]\n"
    }
   ],
   "source": [
    "print(encodeData(\"Apratim\"))"
   ]
  },
  {
   "cell_type": "code",
   "execution_count": 7,
   "metadata": {
    "tags": []
   },
   "outputs": [
    {
     "output_type": "error",
     "ename": "TypeError",
     "evalue": "'<' not supported between instances of 'str' and 'int'",
     "traceback": [
      "\u001b[1;31m---------------------------------------------------------------------------\u001b[0m",
      "\u001b[1;31mTypeError\u001b[0m                                 Traceback (most recent call last)",
      "\u001b[1;32m<ipython-input-7-a19c5b73597f>\u001b[0m in \u001b[0;36m<module>\u001b[1;34m\u001b[0m\n\u001b[0;32m      1\u001b[0m \u001b[0mtestarray\u001b[0m \u001b[1;33m=\u001b[0m \u001b[1;33m[\u001b[0m\u001b[1;36m1\u001b[0m\u001b[1;33m,\u001b[0m\u001b[1;36m2\u001b[0m\u001b[1;33m,\u001b[0m\u001b[1;36m3\u001b[0m\u001b[1;33m,\u001b[0m\u001b[1;36m4\u001b[0m\u001b[1;33m,\u001b[0m\u001b[1;36m5\u001b[0m\u001b[1;33m,\u001b[0m\u001b[1;34m\"a\"\u001b[0m\u001b[1;33m]\u001b[0m\u001b[1;33m\u001b[0m\u001b[1;33m\u001b[0m\u001b[0m\n\u001b[0;32m      2\u001b[0m \u001b[1;31m#print(max(testarray))\u001b[0m\u001b[1;33m\u001b[0m\u001b[1;33m\u001b[0m\u001b[1;33m\u001b[0m\u001b[0m\n\u001b[1;32m----> 3\u001b[1;33m \u001b[0mprint\u001b[0m\u001b[1;33m(\u001b[0m\u001b[0mmin\u001b[0m\u001b[1;33m(\u001b[0m\u001b[0mtestarray\u001b[0m\u001b[1;33m)\u001b[0m\u001b[1;33m)\u001b[0m\u001b[1;33m\u001b[0m\u001b[1;33m\u001b[0m\u001b[0m\n\u001b[0m",
      "\u001b[1;31mTypeError\u001b[0m: '<' not supported between instances of 'str' and 'int'"
     ]
    }
   ],
   "source": [
    "testarray = [1,2,3,4,5,\"a\"]\n",
    "#print(max(testarray))\n",
    "print(min(testarray))\n"
   ]
  },
  {
   "cell_type": "code",
   "execution_count": null,
   "metadata": {},
   "outputs": [],
   "source": []
  }
 ]
}