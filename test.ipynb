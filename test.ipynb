{
 "metadata": {
  "language_info": {
   "codemirror_mode": {
    "name": "ipython",
    "version": 3
   },
   "file_extension": ".py",
   "mimetype": "text/x-python",
   "name": "python",
   "nbconvert_exporter": "python",
   "pygments_lexer": "ipython3",
   "version": "3.8.5-final"
  },
  "orig_nbformat": 2,
  "kernelspec": {
   "name": "python_defaultSpec_1601141661006",
   "display_name": "Python 3.8.5 64-bit ('encryption': conda)"
  }
 },
 "nbformat": 4,
 "nbformat_minor": 2,
 "cells": [
  {
   "cell_type": "code",
   "execution_count": 1,
   "metadata": {},
   "outputs": [],
   "source": [
    "import numpy as np\n",
    "\n",
    "#NOTE if two list exists a and b\n",
    "#use a = b[:] instead a = b\n",
    "#cause a = b is a reference exchange only .... no data exchange\n"
   ]
  },
  {
   "cell_type": "code",
   "execution_count": 2,
   "metadata": {
    "tags": []
   },
   "outputs": [
    {
     "output_type": "error",
     "ename": "SyntaxError",
     "evalue": "invalid syntax (<ipython-input-2-f174c09c4890>, line 1)",
     "traceback": [
      "\u001b[1;36m  File \u001b[1;32m\"<ipython-input-2-f174c09c4890>\"\u001b[1;36m, line \u001b[1;32m1\u001b[0m\n\u001b[1;33m    $Env:MKL_DEBUG_CPU_TYPE=5\u001b[0m\n\u001b[1;37m    ^\u001b[0m\n\u001b[1;31mSyntaxError\u001b[0m\u001b[1;31m:\u001b[0m invalid syntax\n"
     ]
    }
   ],
   "source": [
    "$Env:MKL_DEBUG_CPU_TYPE=5"
   ]
  },
  {
   "cell_type": "code",
   "execution_count": 3,
   "metadata": {},
   "outputs": [],
   "source": [
    "initialVector = [24,39, 3,63, 7,46,16, 3,\n",
    "\t\t\t\t 12,57,18,46,12,55,35,43,\n",
    "\t\t\t\t 15, 6,25,53, 0,45,60,15,\n",
    "\t\t\t\t 50,22,37,41,62,56,29,38,\n",
    "\t\t\t\t  9,15,60, 2,55, 3,18, 8,\n",
    "\t\t\t\t 54,10,28, 0,61,40,14,41,\n",
    "\t\t\t\t 12, 2,40,27,23,43,36,62,\n",
    "\t\t\t\t 32,60,45, 4,17,11,21, 4]"
   ]
  },
  {
   "cell_type": "code",
   "execution_count": 4,
   "metadata": {},
   "outputs": [],
   "source": [
    "permutations=np.genfromtxt(\"permutation.csv\",delimiter=\",\",dtype=np.uint8)\n",
    "\n",
    "substitutions=np.genfromtxt(\"substitution.csv\",delimiter=\",\",dtype=np.uint8)\n",
    "\n",
    "messups = np.genfromtxt(\"messup.csv\",delimiter=\",\",dtype=np.uint8)"
   ]
  },
  {
   "cell_type": "code",
   "execution_count": 5,
   "metadata": {
    "tags": []
   },
   "outputs": [
    {
     "output_type": "stream",
     "name": "stdout",
     "text": "[46, 57, 60, 40, 38, 62, 18, 14, 18, 37, 6, 9, 62, 23, 45, 21, 3, 55, 32, 15, 3, 45, 54, 8, 40, 10, 28, 12, 46, 56, 39, 60, 4, 50, 11, 35, 41, 41, 16, 17, 55, 0, 29, 3, 27, 53, 2, 25, 61, 43, 36, 12, 22, 24, 4, 63, 60, 7, 0, 15, 2, 43, 15, 12]\n"
    }
   ],
   "source": [
    "#permutation and also for verification of integrity\n",
    "temp = initialVector[:]\n",
    "tempshadow = initialVector[:]\n",
    "for temp1 in range(64):\n",
    "    for temp2 in range(64):\n",
    "        tempshadow[temp2] = temp[permutations[temp1][temp2]]\n",
    "    temp = tempshadow[:]\n",
    "\n",
    "print(temp)"
   ]
  },
  {
   "cell_type": "code",
   "execution_count": 6,
   "metadata": {
    "tags": []
   },
   "outputs": [
    {
     "output_type": "stream",
     "name": "stdout",
     "text": "[22, 61, 56, 42, 47, 45, 41, 56, 35, 43, 58, 45, 35, 20, 17, 19, 52, 21, 5, 46, 27, 55, 59, 52, 18, 62, 30, 3, 36, 48, 54, 1, 26, 52, 59, 34, 20, 56, 58, 40, 51, 7, 53, 27, 12, 11, 13, 3, 35, 34, 11, 15, 14, 19, 50, 36, 8, 59, 55, 2, 37, 33, 31, 2]\n"
    }
   ],
   "source": [
    "#substitution\n",
    "temp = initialVector[:]\n",
    "#tempshadow = initialVector[:]\n",
    "\n",
    "for temp1 in range(64):\n",
    "    for temp2 in range(64):\n",
    "        temp[temp2]= substitutions[temp1][(temp[temp2])]\n",
    "\n",
    "print(temp)"
   ]
  },
  {
   "cell_type": "code",
   "execution_count": 7,
   "metadata": {
    "tags": []
   },
   "outputs": [
    {
     "output_type": "stream",
     "name": "stdout",
     "text": "[2, 60, 22, 17, 23, 34, 7, 44, 29, 35, 20, 18, 8, 1, 34, 5, 22, 41, 61, 35, 33, 30, 18, 25, 23, 33, 35, 61, 44, 14, 45, 27, 12, 48, 53, 24, 61, 50, 47, 6, 9, 15, 21, 41, 28, 19, 17, 44, 47, 24, 55, 30, 39, 34, 25, 41, 47, 24, 55, 30, 39, 34, 25, 41]\n"
    }
   ],
   "source": [
    "temp = initialVector[:]\n",
    "\n",
    "for temp in range(64):\n",
    "    temp = (temp + messups[temp][:])%64\n",
    "\n",
    "print(list(temp))"
   ]
  },
  {
   "cell_type": "code",
   "execution_count": 8,
   "metadata": {},
   "outputs": [],
   "source": [
    "def keyexpander_permutation(parameter0,key):\n",
    "\tshadowbox = parameter0[:]\n",
    "\tfor temp1 in range(64):\n",
    "\t\tshadowbox[temp1]= parameter0[permutations[key][temp1]]\n",
    "\treturn shadowbox"
   ]
  },
  {
   "cell_type": "code",
   "execution_count": 9,
   "metadata": {
    "tags": []
   },
   "outputs": [
    {
     "output_type": "stream",
     "name": "stdout",
     "text": "[41, 45, 29, 2, 4, 15, 9, 36, 27, 12, 53, 14, 45, 16, 23, 28, 55, 50, 57, 11, 17, 43, 18, 40, 62, 40, 46, 6, 15, 61, 60, 0, 46, 12, 43, 54, 2, 22, 38, 15, 0, 18, 41, 55, 3, 21, 25, 62, 24, 60, 56, 60, 63, 3, 8, 37, 32, 39, 35, 3, 12, 10, 7, 4]\n"
    }
   ],
   "source": [
    "temp2=keyexpander_permutation(initialVector,7)\n",
    "print(temp2)"
   ]
  },
  {
   "cell_type": "code",
   "execution_count": 10,
   "metadata": {
    "tags": []
   },
   "outputs": [
    {
     "output_type": "stream",
     "name": "stdout",
     "text": "[0, 0, 2, 2, 3, 3, 3, 4, 4, 6, 7, 8, 9, 10, 11, 12, 12, 12, 14, 15, 15, 15, 16, 17, 18, 18, 21, 22, 23, 24, 25, 27, 28, 29, 32, 35, 36, 37, 38, 39, 40, 40, 41, 41, 43, 43, 45, 45, 46, 46, 50, 53, 54, 55, 55, 56, 57, 60, 60, 60, 61, 62, 62, 63]\n"
    }
   ],
   "source": [
    "initialVector.sort()\n",
    "print (initialVector)"
   ]
  },
  {
   "cell_type": "code",
   "execution_count": 11,
   "metadata": {
    "tags": []
   },
   "outputs": [
    {
     "output_type": "stream",
     "name": "stdout",
     "text": "[0, 0, 2, 2, 3, 3, 3, 4, 4, 6, 7, 8, 9, 10, 11, 12, 12, 12, 14, 15, 15, 15, 16, 17, 18, 18, 21, 22, 23, 24, 25, 27, 28, 29, 32, 35, 36, 37, 38, 39, 40, 40, 41, 41, 43, 43, 45, 45, 46, 46, 50, 53, 54, 55, 55, 56, 57, 60, 60, 60, 61, 62, 62, 63]\n"
    }
   ],
   "source": [
    "temp2.sort()\n",
    "print(temp2)"
   ]
  },
  {
   "cell_type": "code",
   "execution_count": null,
   "metadata": {},
   "outputs": [],
   "source": []
  }
 ]
}